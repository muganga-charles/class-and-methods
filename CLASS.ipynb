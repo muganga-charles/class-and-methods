{
 "cells": [
  {
   "cell_type": "code",
   "execution_count": null,
   "metadata": {},
   "outputs": [],
   "source": [
    "import math\n",
    "class Circle:\n",
    "    pi=math.pi\n",
    "    def __init__(self,radius):\n",
    "        self.radius=radius\n",
    "        self.area=Circle.pi*radius**2\n",
    "    def setRadius(self,newRadius):\n",
    "        self.radius=newRadius\n",
    "        self.area=Circle.pi*newRadius**2\n",
    "    def circumference(self):\n",
    "        return 2*Circle.pi*self.radius\n",
    "\n",
    "circle=Circle(5)\n",
    "circle.setRadius(5)\n",
    "print(circle.area)\n",
    "print(circle.circumference())\n",
    "circle.setRadius(10)\n",
    "print(circle.area)\n",
    "print(circle.circumference())\n",
    "print(f\"Radius:{circle.radius}\")\n",
    "\n"
   ]
  },
  {
   "cell_type": "code",
   "execution_count": null,
   "metadata": {},
   "outputs": [],
   "source": [
    "class Shape:\n",
    "    def __init__(self):\n",
    "        print(\"default_shape\")\n",
    "    def area():\n",
    "        print(\"Finds the area\")\n",
    "    def perimeter():\n",
    "        print(\"Finds the perimeter\")\n",
    "    #but many attributes can be inluded\n",
    "class Cicle(Shape):\n",
    "    def __init__(self,rad):\n",
    "        Shape.__init__(self)#calling the parent class constructor\n",
    "        self.radius=rad\n",
    "        print(\"circle_shape\")\n",
    "    def area(self):\n",
    "        print(\"area of the circle is\",3.14*(self.radius**2))\n",
    "circle=Cicle(5)\n",
    "circle.area()"
   ]
  },
  {
   "cell_type": "code",
   "execution_count": null,
   "metadata": {},
   "outputs": [],
   "source": []
  }
 ],
 "metadata": {
  "language_info": {
   "name": "python"
  },
  "orig_nbformat": 4
 },
 "nbformat": 4,
 "nbformat_minor": 2
}
